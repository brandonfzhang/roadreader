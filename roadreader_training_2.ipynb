{
  "nbformat": 4,
  "nbformat_minor": 0,
  "metadata": {
    "colab": {
      "name": "roadreader_training.ipynb",
      "provenance": [],
      "collapsed_sections": [],
      "toc_visible": true,
      "machine_shape": "hm"
    },
    "kernelspec": {
      "name": "python3",
      "display_name": "Python 3"
    },
    "accelerator": "TPU"
  },
  "cells": [
    {
      "cell_type": "code",
      "metadata": {
        "id": "Ci5skbYt0QDO",
        "colab_type": "code",
        "colab": {}
      },
      "source": [
        "!pip install tensorflow==1.14.0"
      ],
      "execution_count": 0,
      "outputs": []
    },
    {
      "cell_type": "code",
      "metadata": {
        "id": "C7rzmGf-33NK",
        "colab_type": "code",
        "colab": {}
      },
      "source": [
        "import tensorflow as tf\n",
        "from tensorflow import keras\n",
        "from tensorflow.keras import layers\n",
        "import numpy as np\n",
        "import matplotlib.pyplot as plt\n",
        "import glob\n",
        "import cv2\n",
        "\n",
        "from PIL import Image"
      ],
      "execution_count": 0,
      "outputs": []
    },
    {
      "cell_type": "code",
      "metadata": {
        "id": "mfbduE1mpdw-",
        "colab_type": "code",
        "colab": {}
      },
      "source": [
        "from google.colab import drive #STU NAPERVILLE ACCOUNTS DON'T WORK - USE YOUR PERSONAL GOOGLE ACCOUNTS\n",
        "drive.mount('/content/drive')"
      ],
      "execution_count": 0,
      "outputs": []
    },
    {
      "cell_type": "code",
      "metadata": {
        "id": "X9J0x5k1CUKS",
        "colab_type": "code",
        "outputId": "f0395e6a-8787-47a7-fbe8-9771c20059bc",
        "colab": {
          "base_uri": "https://localhost:8080/",
          "height": 54
        }
      },
      "source": [
        "train_datagen = keras.preprocessing.image.ImageDataGenerator(rescale=1./255, brightness_range=[0.5,1.5], rotation_range=5)\n",
        "#replace \"dataset1\" with dataset you want to test\n",
        "train_generator = train_datagen.flow_from_directory(\n",
        "        \"/content/drive/My Drive/ROADREADER DATASETS/combined/training\",\n",
        "        target_size=(300, 400),\n",
        "        batch_size=32, \n",
        "        color_mode=\"rgb\",\n",
        "        class_mode=\"sparse\",\n",
        "        shuffle=True)\n",
        "\n",
        "test_datagen = keras.preprocessing.image.ImageDataGenerator(rescale=1./255, brightness_range=[0.5,1.5], rotation_range=5)\n",
        "test_generator = test_datagen.flow_from_directory(\n",
        "        \"/content/drive/My Drive/ROADREADER DATASETS/combined/tests\",\n",
        "        target_size=(300, 400),\n",
        "        batch_size=32, \n",
        "        color_mode=\"rgb\",\n",
        "        class_mode=\"sparse\",\n",
        "        shuffle=True)"
      ],
      "execution_count": 21,
      "outputs": [
        {
          "output_type": "stream",
          "text": [
            "Found 5717 images belonging to 2 classes.\n",
            "Found 1365 images belonging to 2 classes.\n"
          ],
          "name": "stdout"
        }
      ]
    },
    {
      "cell_type": "code",
      "metadata": {
        "id": "cKnKYVmD-2eH",
        "colab_type": "code",
        "colab": {
          "base_uri": "https://localhost:8080/",
          "height": 678
        },
        "outputId": "9a8c2088-62c9-4c5d-8805-98ba809f7b5f"
      },
      "source": [
        "model = keras.Sequential([\n",
        "  layers.Conv2D(14, 3, activation='relu', input_shape=(300,400,3)),\n",
        "  layers.MaxPooling2D((2,2), padding='same'),\n",
        "  layers.Conv2D(28, 3, activation='relu'),\n",
        "  layers.MaxPooling2D((2,2), padding='same'),\n",
        "  layers.Conv2D(42, 3, activation='relu'),\n",
        "  layers.MaxPooling2D((2,2), padding='same'),\n",
        "  layers.Conv2D(84, 3, activation='relu'),\n",
        "  layers.MaxPooling2D((2,2), padding='same'),\n",
        "  layers.Conv2D(168, 3, activation='relu'),\n",
        "  layers.MaxPooling2D((2,2), padding='same'),\n",
        "  layers.Flatten(),\n",
        "  layers.Dense(2000, activation='relu'),\n",
        "  layers.Dense(200, activation='relu'),\n",
        "  layers.Dense(2, activation='softmax'), #classification layer; 0 for none 1 for stop\n",
        "])\n",
        "model.summary()"
      ],
      "execution_count": 22,
      "outputs": [
        {
          "output_type": "stream",
          "text": [
            "Model: \"sequential_9\"\n",
            "_________________________________________________________________\n",
            "Layer (type)                 Output Shape              Param #   \n",
            "=================================================================\n",
            "conv2d_48 (Conv2D)           (None, 298, 398, 14)      392       \n",
            "_________________________________________________________________\n",
            "max_pooling2d_47 (MaxPooling (None, 149, 199, 14)      0         \n",
            "_________________________________________________________________\n",
            "conv2d_49 (Conv2D)           (None, 147, 197, 28)      3556      \n",
            "_________________________________________________________________\n",
            "max_pooling2d_48 (MaxPooling (None, 74, 99, 28)        0         \n",
            "_________________________________________________________________\n",
            "conv2d_50 (Conv2D)           (None, 72, 97, 42)        10626     \n",
            "_________________________________________________________________\n",
            "max_pooling2d_49 (MaxPooling (None, 36, 49, 42)        0         \n",
            "_________________________________________________________________\n",
            "conv2d_51 (Conv2D)           (None, 34, 47, 84)        31836     \n",
            "_________________________________________________________________\n",
            "max_pooling2d_50 (MaxPooling (None, 17, 24, 84)        0         \n",
            "_________________________________________________________________\n",
            "conv2d_52 (Conv2D)           (None, 15, 22, 168)       127176    \n",
            "_________________________________________________________________\n",
            "max_pooling2d_51 (MaxPooling (None, 8, 11, 168)        0         \n",
            "_________________________________________________________________\n",
            "flatten_9 (Flatten)          (None, 14784)             0         \n",
            "_________________________________________________________________\n",
            "dense_27 (Dense)             (None, 2000)              29570000  \n",
            "_________________________________________________________________\n",
            "dense_28 (Dense)             (None, 200)               400200    \n",
            "_________________________________________________________________\n",
            "dense_29 (Dense)             (None, 2)                 402       \n",
            "=================================================================\n",
            "Total params: 30,144,188\n",
            "Trainable params: 30,144,188\n",
            "Non-trainable params: 0\n",
            "_________________________________________________________________\n"
          ],
          "name": "stdout"
        }
      ]
    },
    {
      "cell_type": "code",
      "metadata": {
        "id": "LGyaLgMLA5Kb",
        "colab_type": "code",
        "colab": {}
      },
      "source": [
        "model.compile(optimizer='adam', loss='sparse_categorical_crossentropy', metrics=['accuracy'])"
      ],
      "execution_count": 0,
      "outputs": []
    },
    {
      "cell_type": "code",
      "metadata": {
        "id": "vaBaozT4B7fn",
        "colab_type": "code",
        "outputId": "41700826-2421-46f9-ec8d-69ef88762100",
        "colab": {
          "base_uri": "https://localhost:8080/",
          "height": 935
        }
      },
      "source": [
        "#model.fit(x=train_images,y=train_labels, validation_data=(test_images, test_labels), epochs=10, batch_size=128)\n",
        "\n",
        "model.fit_generator(\n",
        "        train_generator,\n",
        "        steps_per_epoch=230,\n",
        "        epochs=25,\n",
        "        validation_data=test_generator,\n",
        "        validation_steps=55,\n",
        "        workers=6,\n",
        "        use_multiprocessing=True\n",
        "        #max_queue_size=10\n",
        "        )\n",
        "\n",
        "'''\n",
        "STEP_SIZE_TRAIN=train_generator.n//train_generator.batch_size\n",
        "STEP_SIZE_VALID=test_generator.n//test_generator.batch_size\n",
        "model.fit_generator(generator=train_generator,\n",
        "                    steps_per_epoch=STEP_SIZE_TRAIN,\n",
        "                    validation_data=test_generator,\n",
        "                    validation_steps=STEP_SIZE_VALID,\n",
        "                    epochs=10\n",
        ")\n",
        "                    '''\n",
        "\n",
        "model.save_weights('/content/model.h5')"
      ],
      "execution_count": 24,
      "outputs": [
        {
          "output_type": "stream",
          "text": [
            "Epoch 1/25\n",
            "230/230 [==============================] - 157s 681ms/step - loss: 0.3190 - acc: 0.8422 - val_loss: 0.1118 - val_acc: 0.9657\n",
            "Epoch 2/25\n",
            "230/230 [==============================] - 153s 665ms/step - loss: 0.0867 - acc: 0.9718 - val_loss: 0.0481 - val_acc: 0.9823\n",
            "Epoch 3/25\n",
            "230/230 [==============================] - 155s 674ms/step - loss: 0.0613 - acc: 0.9796 - val_loss: 0.0508 - val_acc: 0.9817\n",
            "Epoch 4/25\n",
            "230/230 [==============================] - 159s 689ms/step - loss: 0.0447 - acc: 0.9860 - val_loss: 0.0249 - val_acc: 0.9920\n",
            "Epoch 5/25\n",
            "230/230 [==============================] - 155s 673ms/step - loss: 0.0458 - acc: 0.9853 - val_loss: 0.0347 - val_acc: 0.9874\n",
            "Epoch 6/25\n",
            "230/230 [==============================] - 155s 674ms/step - loss: 0.0324 - acc: 0.9899 - val_loss: 0.0181 - val_acc: 0.9937\n",
            "Epoch 7/25\n",
            "230/230 [==============================] - 156s 676ms/step - loss: 0.0269 - acc: 0.9893 - val_loss: 0.0276 - val_acc: 0.9897\n",
            "Epoch 8/25\n",
            "230/230 [==============================] - 158s 688ms/step - loss: 0.0300 - acc: 0.9898 - val_loss: 0.0185 - val_acc: 0.9914\n",
            "Epoch 9/25\n",
            "230/230 [==============================] - 157s 683ms/step - loss: 0.0246 - acc: 0.9925 - val_loss: 0.0156 - val_acc: 0.9937\n",
            "Epoch 10/25\n",
            "230/230 [==============================] - 158s 686ms/step - loss: 0.0295 - acc: 0.9903 - val_loss: 0.0228 - val_acc: 0.9931\n",
            "Epoch 11/25\n",
            "230/230 [==============================] - 160s 694ms/step - loss: 0.0224 - acc: 0.9944 - val_loss: 0.0903 - val_acc: 0.9817\n",
            "Epoch 12/25\n",
            "230/230 [==============================] - 156s 679ms/step - loss: 0.0377 - acc: 0.9890 - val_loss: 0.0120 - val_acc: 0.9960\n",
            "Epoch 13/25\n",
            "230/230 [==============================] - 157s 683ms/step - loss: 0.0155 - acc: 0.9940 - val_loss: 0.0167 - val_acc: 0.9937\n",
            "Epoch 14/25\n",
            "230/230 [==============================] - 159s 692ms/step - loss: 0.0129 - acc: 0.9956 - val_loss: 0.0088 - val_acc: 0.9977\n",
            "Epoch 15/25\n",
            "230/230 [==============================] - 161s 702ms/step - loss: 0.0249 - acc: 0.9913 - val_loss: 0.0138 - val_acc: 0.9943\n",
            "Epoch 16/25\n",
            "230/230 [==============================] - 159s 692ms/step - loss: 0.0140 - acc: 0.9960 - val_loss: 0.0249 - val_acc: 0.9920\n",
            "Epoch 17/25\n",
            "230/230 [==============================] - 162s 703ms/step - loss: 0.0143 - acc: 0.9955 - val_loss: 0.0168 - val_acc: 0.9943\n",
            "Epoch 18/25\n",
            "230/230 [==============================] - 166s 721ms/step - loss: 0.0223 - acc: 0.9931 - val_loss: 0.0225 - val_acc: 0.9937\n",
            "Epoch 19/25\n",
            "230/230 [==============================] - 161s 701ms/step - loss: 0.0171 - acc: 0.9936 - val_loss: 0.0134 - val_acc: 0.9954\n",
            "Epoch 20/25\n",
            "230/230 [==============================] - 160s 697ms/step - loss: 0.0217 - acc: 0.9944 - val_loss: 0.0191 - val_acc: 0.9931\n",
            "Epoch 21/25\n",
            "230/230 [==============================] - 161s 701ms/step - loss: 0.0177 - acc: 0.9940 - val_loss: 0.0129 - val_acc: 0.9966\n",
            "Epoch 22/25\n",
            "230/230 [==============================] - 167s 726ms/step - loss: 0.0132 - acc: 0.9954 - val_loss: 0.0137 - val_acc: 0.9949\n",
            "Epoch 23/25\n",
            "230/230 [==============================] - 161s 702ms/step - loss: 0.0198 - acc: 0.9948 - val_loss: 0.0405 - val_acc: 0.9868\n",
            "Epoch 24/25\n",
            "230/230 [==============================] - 162s 705ms/step - loss: 0.0222 - acc: 0.9929 - val_loss: 0.0235 - val_acc: 0.9926\n",
            "Epoch 25/25\n",
            "230/230 [==============================] - 162s 706ms/step - loss: 0.0251 - acc: 0.9930 - val_loss: 0.0073 - val_acc: 0.9977\n"
          ],
          "name": "stdout"
        }
      ]
    }
  ]
}