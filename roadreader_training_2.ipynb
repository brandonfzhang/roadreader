{
  "nbformat": 4,
  "nbformat_minor": 0,
  "metadata": {
    "colab": {
      "name": "roadreader_training.ipynb",
      "provenance": [],
      "collapsed_sections": [],
      "toc_visible": true,
      "machine_shape": "hm"
    },
    "kernelspec": {
      "name": "python3",
      "display_name": "Python 3"
    },
    "accelerator": "GPU"
  },
  "cells": [
    {
      "cell_type": "code",
      "metadata": {
        "id": "Ci5skbYt0QDO",
        "colab_type": "code",
        "colab": {}
      },
      "source": [
        "!pip install tensorflow==1.14.0"
      ],
      "execution_count": 0,
      "outputs": []
    },
    {
      "cell_type": "code",
      "metadata": {
        "id": "C7rzmGf-33NK",
        "colab_type": "code",
        "colab": {}
      },
      "source": [
        "import tensorflow as tf\n",
        "from tensorflow import keras\n",
        "from tensorflow.keras import layers\n",
        "import numpy as np\n",
        "import matplotlib.pyplot as plt\n",
        "import glob\n",
        "import cv2\n",
        "\n",
        "from PIL import Image"
      ],
      "execution_count": 0,
      "outputs": []
    },
    {
      "cell_type": "code",
      "metadata": {
        "id": "mfbduE1mpdw-",
        "colab_type": "code",
        "colab": {
          "base_uri": "https://localhost:8080/",
          "height": 35
        },
        "outputId": "6bb61236-517d-4001-e7b6-104dafd92e1e"
      },
      "source": [
        "from google.colab import drive #STU NAPERVILLE ACCOUNTS DON'T WORK - USE YOUR PERSONAL GOOGLE ACCOUNTS\n",
        "drive.mount('/content/drive')"
      ],
      "execution_count": 4,
      "outputs": [
        {
          "output_type": "stream",
          "text": [
            "Drive already mounted at /content/drive; to attempt to forcibly remount, call drive.mount(\"/content/drive\", force_remount=True).\n"
          ],
          "name": "stdout"
        }
      ]
    },
    {
      "cell_type": "code",
      "metadata": {
        "id": "y50xTkeCntQA",
        "colab_type": "code",
        "colab": {}
      },
      "source": [
        "#FORMATTING DATA SET (not tested)\n",
        "#https://medium.com/@muskulpesent/create-numpy-array-of-images-fecb4e514c4b&sa=D&source=hangouts&ust=1582390259517000&usg=AFQjCNFIlPagqjM75QyaHiorDWqaazaL5g\n",
        "train_images = []\n",
        "train_labels = []\n",
        "test_images = []\n",
        "test_labels = []\n",
        "\n",
        "#takes an exorbant amount of time to upload; may need to consider dataset pipelines or generators\n",
        "\n",
        "files = glob.glob(\"/content/drive/My Drive/ROADREADER DATASETS/training/*.png\")\n",
        "for myFile in files:\n",
        "  print(myFile)\n",
        "  #image = cv2.imread(myFile)\n",
        "  image = Image.open(myFile)\n",
        "  image.load()\n",
        "  image = np.asarray(image, dtype=np.float32)/255.0;\n",
        "  train_images.append(image)\n",
        "  train_labels.append(image[0])\n",
        "train_labels = np.array(train_labels, dtype='float64')\n",
        "\n",
        "files2 = glob.glob(\"/content/drive/My Drive/ROADREADER DATASETS/tests/*.png\")\n",
        "for myFile in files2:\n",
        "  print(myFile)\n",
        "  #image = cv2.imread(myFile)\n",
        "  image = Image.open(myFile)\n",
        "  image.load()\n",
        "  image = np.asarray(image, dtype=np.float32)/255.0;\n",
        "  test_images.append(image)\n",
        "  test_labels.append(image[0])\n",
        "test_labels = np.array(test_labels, dtype='float64')\n",
        "\n",
        "trainingMap = dict(zip(train_images, train_labels))\n",
        "testingMap = dict(zip(test_images, test_labels))\n",
        "\n",
        "#mnist = keras.datasets.mnist\n",
        "#(train_images, train_labels), (test_images, test_labels) = mnist.load_data()"
      ],
      "execution_count": 0,
      "outputs": []
    },
    {
      "cell_type": "code",
      "metadata": {
        "id": "CuaYhAAralmD",
        "colab_type": "code",
        "outputId": "2cda2787-47e0-4ef7-920c-1e1e5046e206",
        "colab": {
          "base_uri": "https://localhost:8080/",
          "height": 54
        }
      },
      "source": [
        "print(\"shape before: \" + str(np.shape(train_images)))\n",
        "train_images = np.reshape(train_images, (-1, 300, 400, 3))\n",
        "print(\"shape after: \" + str(np.shape(train_images)))\n",
        "test_images = np.reshape(test_images, (-1, 300, 400, 3))"
      ],
      "execution_count": 4,
      "outputs": [
        {
          "output_type": "stream",
          "text": [
            "shape before: (1187, 300, 400, 3)\n",
            "shape after: (1187, 300, 400, 3)\n"
          ],
          "name": "stdout"
        }
      ]
    },
    {
      "cell_type": "code",
      "metadata": {
        "id": "X9J0x5k1CUKS",
        "colab_type": "code",
        "colab": {
          "base_uri": "https://localhost:8080/",
          "height": 54
        },
        "outputId": "c16e6ef5-60f1-415d-cc2b-69a29be0879f"
      },
      "source": [
        "train_datagen = keras.preprocessing.image.ImageDataGenerator(rescale=1./255, brightness_range=(-1, 1))\n",
        "train_generator = train_datagen.flow_from_directory(\n",
        "        \"/content/drive/My Drive/ROADREADER DATASETS/training\",\n",
        "        target_size=(300, 400),\n",
        "        batch_size=32, \n",
        "        color_mode=\"rgb\",\n",
        "        class_mode=\"sparse\",\n",
        "        shuffle=True)\n",
        "\n",
        "test_datagen = keras.preprocessing.image.ImageDataGenerator(rescale=1./255, brightness_range=(-1, 1))\n",
        "test_generator = test_datagen.flow_from_directory(\n",
        "        \"/content/drive/My Drive/ROADREADER DATASETS/tests\",\n",
        "        target_size=(300, 400),\n",
        "        batch_size=1, \n",
        "        color_mode=\"rgb\",\n",
        "        class_mode=None,\n",
        "        shuffle=False)"
      ],
      "execution_count": 3,
      "outputs": [
        {
          "output_type": "stream",
          "text": [
            "Found 1196 images belonging to 2 classes.\n",
            "Found 204 images belonging to 2 classes.\n"
          ],
          "name": "stdout"
        }
      ]
    },
    {
      "cell_type": "code",
      "metadata": {
        "id": "cKnKYVmD-2eH",
        "colab_type": "code",
        "colab": {
          "base_uri": "https://localhost:8080/",
          "height": 606
        },
        "outputId": "be2980f8-fb40-4673-a731-3ace3177e383"
      },
      "source": [
        "model = keras.Sequential([\n",
        "  layers.Conv2D(14, 3, activation='relu', input_shape=(300,400,3)),\n",
        "  layers.MaxPooling2D((2,2), padding='same'),\n",
        "  layers.Conv2D(28, 3, activation='relu'),\n",
        "  layers.MaxPooling2D((2,2), padding='same'),\n",
        "  layers.Conv2D(42, 3, activation='relu'),\n",
        "  layers.MaxPooling2D((2,2), padding='same'),\n",
        "  layers.Flatten(),\n",
        "  layers.Dense(20000, activation='relu'),\n",
        "  layers.Dense(200, activation='relu'),\n",
        "  layers.Dense(2, activation='softmax'), #classification layer; 0 for none 1 for stop\n",
        "])\n",
        "model.summary()"
      ],
      "execution_count": 4,
      "outputs": [
        {
          "output_type": "stream",
          "text": [
            "WARNING:tensorflow:From /usr/local/lib/python3.6/dist-packages/tensorflow/python/ops/init_ops.py:1251: calling VarianceScaling.__init__ (from tensorflow.python.ops.init_ops) with dtype is deprecated and will be removed in a future version.\n",
            "Instructions for updating:\n",
            "Call initializer instance with the dtype argument instead of passing it to the constructor\n",
            "Model: \"sequential\"\n",
            "_________________________________________________________________\n",
            "Layer (type)                 Output Shape              Param #   \n",
            "=================================================================\n",
            "conv2d (Conv2D)              (None, 298, 398, 14)      392       \n",
            "_________________________________________________________________\n",
            "max_pooling2d (MaxPooling2D) (None, 149, 199, 14)      0         \n",
            "_________________________________________________________________\n",
            "conv2d_1 (Conv2D)            (None, 147, 197, 28)      3556      \n",
            "_________________________________________________________________\n",
            "max_pooling2d_1 (MaxPooling2 (None, 74, 99, 28)        0         \n",
            "_________________________________________________________________\n",
            "conv2d_2 (Conv2D)            (None, 72, 97, 42)        10626     \n",
            "_________________________________________________________________\n",
            "max_pooling2d_2 (MaxPooling2 (None, 36, 49, 42)        0         \n",
            "_________________________________________________________________\n",
            "flatten (Flatten)            (None, 74088)             0         \n",
            "_________________________________________________________________\n",
            "dense (Dense)                (None, 20000)             1481780000\n",
            "_________________________________________________________________\n",
            "dense_1 (Dense)              (None, 200)               4000200   \n",
            "_________________________________________________________________\n",
            "dense_2 (Dense)              (None, 2)                 402       \n",
            "=================================================================\n",
            "Total params: 1,485,795,176\n",
            "Trainable params: 1,485,795,176\n",
            "Non-trainable params: 0\n",
            "_________________________________________________________________\n"
          ],
          "name": "stdout"
        }
      ]
    },
    {
      "cell_type": "code",
      "metadata": {
        "id": "LGyaLgMLA5Kb",
        "colab_type": "code",
        "colab": {}
      },
      "source": [
        "model.compile(optimizer='adam', loss='sparse_categorical_crossentropy', metrics=['accuracy'])"
      ],
      "execution_count": 0,
      "outputs": []
    },
    {
      "cell_type": "code",
      "metadata": {
        "id": "vaBaozT4B7fn",
        "colab_type": "code",
        "colab": {
          "base_uri": "https://localhost:8080/",
          "height": 246
        },
        "outputId": "fa8d6fea-681b-40bb-9bbe-769d72e88903"
      },
      "source": [
        "#model.fit(x=train_images,y=train_labels, validation_data=(test_images, test_labels), epochs=10, batch_size=128)\n",
        "\n",
        "model.fit_generator(\n",
        "        train_generator,\n",
        "        steps_per_epoch=128,\n",
        "        epochs=10,\n",
        "        validation_data=test_generator,\n",
        "        validation_steps=32,\n",
        "        workers=1,\n",
        "        use_multiprocessing=False,\n",
        "        max_queue_size=10)\n",
        "\n",
        "'''\n",
        "STEP_SIZE_TRAIN=train_generator.n//train_generator.batch_size\n",
        "STEP_SIZE_VALID=test_generator.n//test_generator.batch_size\n",
        "model.fit_generator(generator=train_generator,\n",
        "                    steps_per_epoch=STEP_SIZE_TRAIN,\n",
        "                    validation_data=test_generator,\n",
        "                    validation_steps=STEP_SIZE_VALID,\n",
        "                    epochs=10\n",
        ")\n",
        "                    '''\n",
        "\n",
        "model.save_weights('/content/model.h5')"
      ],
      "execution_count": 1,
      "outputs": [
        {
          "output_type": "error",
          "ename": "NameError",
          "evalue": "ignored",
          "traceback": [
            "\u001b[0;31m---------------------------------------------------------------------------\u001b[0m",
            "\u001b[0;31mNameError\u001b[0m                                 Traceback (most recent call last)",
            "\u001b[0;32m<ipython-input-1-d048a9cb222e>\u001b[0m in \u001b[0;36m<module>\u001b[0;34m()\u001b[0m\n\u001b[1;32m      1\u001b[0m \u001b[0;34m\u001b[0m\u001b[0m\n\u001b[0;32m----> 2\u001b[0;31m model.fit_generator(\n\u001b[0m\u001b[1;32m      3\u001b[0m         \u001b[0mtrain_generator\u001b[0m\u001b[0;34m,\u001b[0m\u001b[0;34m\u001b[0m\u001b[0;34m\u001b[0m\u001b[0m\n\u001b[1;32m      4\u001b[0m         \u001b[0msteps_per_epoch\u001b[0m\u001b[0;34m=\u001b[0m\u001b[0;36m128\u001b[0m\u001b[0;34m,\u001b[0m\u001b[0;34m\u001b[0m\u001b[0;34m\u001b[0m\u001b[0m\n\u001b[1;32m      5\u001b[0m         \u001b[0mepochs\u001b[0m\u001b[0;34m=\u001b[0m\u001b[0;36m10\u001b[0m\u001b[0;34m,\u001b[0m\u001b[0;34m\u001b[0m\u001b[0;34m\u001b[0m\u001b[0m\n",
            "\u001b[0;31mNameError\u001b[0m: name 'model' is not defined"
          ]
        }
      ]
    },
    {
      "cell_type": "code",
      "metadata": {
        "id": "d8w3WswHCt3i",
        "colab_type": "code",
        "colab": {}
      },
      "source": [
        "predictions = np.argmax(model.predict(test_images), axis=1)\n",
        "plt.figure(figsize=(10,10))\n",
        "for i in range(25):\n",
        "    plt.subplot(5,5,i+1)\n",
        "    plt.xticks([])\n",
        "    plt.yticks([])\n",
        "    plt.grid(False)\n",
        "    plt.imshow(np.reshape(test_images[i], (28,28)), cmap=plt.cm.binary)\n",
        "    plt.xlabel(predictions[i])\n",
        "plt.show()"
      ],
      "execution_count": 0,
      "outputs": []
    }
  ]
}