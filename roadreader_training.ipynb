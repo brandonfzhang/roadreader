{
  "nbformat": 4,
  "nbformat_minor": 0,
  "metadata": {
    "colab": {
      "name": "roadreader_training.ipynb",
      "provenance": [],
      "collapsed_sections": [],
      "toc_visible": true,
      "machine_shape": "hm"
    },
    "kernelspec": {
      "name": "python3",
      "display_name": "Python 3"
    },
    "accelerator": "GPU"
  },
  "cells": [
    {
      "cell_type": "code",
      "metadata": {
        "id": "C7rzmGf-33NK",
        "colab_type": "code",
        "colab": {}
      },
      "source": [
        "!pip install tensorflow==1.14.0\n",
        "\n",
        "import tensorflow as tf\n",
        "from tensorflow import keras\n",
        "from tensorflow.keras import layers\n",
        "import numpy as np\n",
        "import matplotlib.pyplot as plt\n",
        "import glob\n",
        "import cv2\n",
        "\n",
        "from PIL import Image"
      ],
      "execution_count": 0,
      "outputs": []
    },
    {
      "cell_type": "code",
      "metadata": {
        "id": "mfbduE1mpdw-",
        "colab_type": "code",
        "colab": {}
      },
      "source": [
        "from google.colab import drive #STU NAPERVILLE ACCOUNTS DON'T WORK - USE YOUR PERSONAL GOOGLE ACCOUNTS\n",
        "drive.mount('/content/drive')"
      ],
      "execution_count": 0,
      "outputs": []
    },
    {
      "cell_type": "code",
      "metadata": {
        "id": "y50xTkeCntQA",
        "colab_type": "code",
        "colab": {}
      },
      "source": [
        "#FORMATTING DATA SET (not tested)\n",
        "#https://medium.com/@muskulpesent/create-numpy-array-of-images-fecb4e514c4b&sa=D&source=hangouts&ust=1582390259517000&usg=AFQjCNFIlPagqjM75QyaHiorDWqaazaL5g\n",
        "train_images = []\n",
        "train_labels = []\n",
        "test_images = []\n",
        "test_labels = []\n",
        "\n",
        "#takes an exorbant amount of time to upload; may need to consider dataset pipelines or generators\n",
        "\n",
        "files = glob.glob(\"/content/drive/My Drive/ROADREADER DATASETS/training/*.png\")\n",
        "for myFile in files:\n",
        "  print(myFile)\n",
        "  #image = cv2.imread(myFile)\n",
        "  image = Image.open(myFile)\n",
        "  image.load()\n",
        "  image = np.asarray(image, dtype=np.float32)/255.0;\n",
        "  train_images.append(image)\n",
        "  train_labels.append(image[0])\n",
        "train_labels = np.array(train_labels, dtype='float64')\n",
        "\n",
        "files2 = glob.glob(\"/content/drive/My Drive/ROADREADER DATASETS/tests/*.png\")\n",
        "for myFile in files2:\n",
        "  print(myFile)\n",
        "  #image = cv2.imread(myFile)\n",
        "  image = Image.open(myFile)\n",
        "  image.load()\n",
        "  image = np.asarray(image, dtype=np.float32)/255.0;\n",
        "  test_images.append(image)\n",
        "  test_labels.append(image[0])\n",
        "test_labels = np.array(test_labels, dtype='float64')\n",
        "\n",
        "#mnist = keras.datasets.mnist\n",
        "#(train_images, train_labels), (test_images, test_labels) = mnist.load_data()"
      ],
      "execution_count": 0,
      "outputs": []
    },
    {
      "cell_type": "code",
      "metadata": {
        "id": "CuaYhAAralmD",
        "colab_type": "code",
        "outputId": "9a9e553c-7706-45c1-e83e-e8a4b5c8dc98",
        "colab": {
          "base_uri": "https://localhost:8080/",
          "height": 51
        }
      },
      "source": [
        "print(\"shape before: \" + str(np.shape(train_images)))\n",
        "train_images = np.reshape(train_images, (-1, 300, 400, 3))\n",
        "print(\"shape after: \" + str(np.shape(train_images)))\n",
        "test_images = np.reshape(test_images, (-1, 300, 400, 3))"
      ],
      "execution_count": 13,
      "outputs": [
        {
          "output_type": "stream",
          "text": [
            "shape before: (1187, 300, 400, 3)\n",
            "shape after: (1187, 300, 400, 3)\n"
          ],
          "name": "stdout"
        }
      ]
    },
    {
      "cell_type": "code",
      "metadata": {
        "id": "lDhHfqoY_u1S",
        "colab_type": "code",
        "colab": {
          "base_uri": "https://localhost:8080/",
          "height": 34
        },
        "outputId": "ad370141-7f2b-499c-bc55-2cd71407b8ab"
      },
      "source": [
        "'''\n",
        "train_images = train_images / 255.\n",
        "test_images = test_images / 255.\n",
        "'''"
      ],
      "execution_count": 5,
      "outputs": [
        {
          "output_type": "execute_result",
          "data": {
            "text/plain": [
              "'\\ntrain_images = train_images / 255.\\ntest_images = test_images / 255.\\n'"
            ]
          },
          "metadata": {
            "tags": []
          },
          "execution_count": 5
        }
      ]
    },
    {
      "cell_type": "code",
      "metadata": {
        "id": "wX4jMtAY9iez",
        "colab_type": "code",
        "colab": {}
      },
      "source": [
        "plt.figure(figsize=(10,10))\n",
        "for i in range(25):\n",
        "    plt.subplot(5,5,i+1)\n",
        "    plt.xticks([])\n",
        "    plt.yticks([])\n",
        "    plt.grid(False)\n",
        "    plt.imshow(np.reshape(train_images[i], (300,400)), cmap=plt.cm.binary)\n",
        "    plt.xlabel(train_labels[i])\n",
        "plt.show()"
      ],
      "execution_count": 0,
      "outputs": []
    },
    {
      "cell_type": "code",
      "metadata": {
        "id": "cKnKYVmD-2eH",
        "colab_type": "code",
        "colab": {}
      },
      "source": [
        "model = keras.Sequential([\n",
        "  layers.Conv2D(14, 3, activation='relu', input_shape=(300,400,3)),\n",
        "  layers.MaxPooling2D((2,2), padding='same'),\n",
        "  layers.Conv2D(28, 3, activation='relu'),\n",
        "  layers.MaxPooling2D((2,2), padding='same'),\n",
        "  layers.Conv2D(42, 3, activation='relu'),\n",
        "  layers.MaxPooling2D((2,2), padding='same'),\n",
        "  layers.Flatten(),\n",
        "  layers.Dense(20000, activation='relu'),\n",
        "  layers.Dense(200, activation='relu'),\n",
        "  layers.Dense(2, activation='softmax'), #classification layer; 0 for none 1 for stop\n",
        "])\n",
        "model.summary()"
      ],
      "execution_count": 0,
      "outputs": []
    },
    {
      "cell_type": "code",
      "metadata": {
        "id": "LGyaLgMLA5Kb",
        "colab_type": "code",
        "colab": {}
      },
      "source": [
        "model.compile(optimizer='adam', loss='sparse_categorical_crossentropy', metrics=['accuracy'])"
      ],
      "execution_count": 0,
      "outputs": []
    },
    {
      "cell_type": "code",
      "metadata": {
        "id": "vaBaozT4B7fn",
        "colab_type": "code",
        "colab": {}
      },
      "source": [
        "model.fit(x=train_images,y=train_labels, validation_data=(test_images, test_labels), epochs=10, batch_size=128)\n",
        "\n",
        "model.save_weights('/content/model.h5')"
      ],
      "execution_count": 0,
      "outputs": []
    },
    {
      "cell_type": "code",
      "metadata": {
        "id": "d8w3WswHCt3i",
        "colab_type": "code",
        "colab": {}
      },
      "source": [
        "predictions = np.argmax(model.predict(test_images), axis=1)\n",
        "plt.figure(figsize=(10,10))\n",
        "for i in range(25):\n",
        "    plt.subplot(5,5,i+1)\n",
        "    plt.xticks([])\n",
        "    plt.yticks([])\n",
        "    plt.grid(False)\n",
        "    plt.imshow(np.reshape(test_images[i], (28,28)), cmap=plt.cm.binary)\n",
        "    plt.xlabel(predictions[i])\n",
        "plt.show()"
      ],
      "execution_count": 0,
      "outputs": []
    }
  ]
}