{
  "nbformat": 4,
  "nbformat_minor": 0,
  "metadata": {
    "colab": {
      "name": "roadreader_training.ipynb",
      "provenance": [],
      "collapsed_sections": [],
      "toc_visible": true
    },
    "kernelspec": {
      "name": "python3",
      "display_name": "Python 3"
    },
    "accelerator": "GPU"
  },
  "cells": [
    {
      "cell_type": "code",
      "metadata": {
        "id": "C7rzmGf-33NK",
        "colab_type": "code",
        "colab": {}
      },
      "source": [
        "!pip install tensorflow==1.14.0\n",
        "\n",
        "import tensorflow as tf\n",
        "from tensorflow import keras\n",
        "from tensorflow.keras import layers\n",
        "import numpy as np\n",
        "import matplotlib.pyplot as plt\n",
        "import glob\n",
        "import cv2"
      ],
      "execution_count": 0,
      "outputs": []
    },
    {
      "cell_type": "code",
      "metadata": {
        "id": "mfbduE1mpdw-",
        "colab_type": "code",
        "colab": {
          "base_uri": "https://localhost:8080/",
          "height": 122
        },
        "outputId": "bea6675a-1dc9-440a-86fd-0d26092fabd2"
      },
      "source": [
        "from google.colab import drive #STU NAPERVILLE ACCOUNTS DON'T WORK - USE YOUR PERSONAL GOOGLE ACCOUNTS\n",
        "drive.mount('/content/drive')"
      ],
      "execution_count": 1,
      "outputs": [
        {
          "output_type": "stream",
          "text": [
            "Go to this URL in a browser: https://accounts.google.com/o/oauth2/auth?client_id=947318989803-6bn6qk8qdgf4n4g3pfee6491hc0brc4i.apps.googleusercontent.com&redirect_uri=urn%3aietf%3awg%3aoauth%3a2.0%3aoob&response_type=code&scope=email%20https%3a%2f%2fwww.googleapis.com%2fauth%2fdocs.test%20https%3a%2f%2fwww.googleapis.com%2fauth%2fdrive%20https%3a%2f%2fwww.googleapis.com%2fauth%2fdrive.photos.readonly%20https%3a%2f%2fwww.googleapis.com%2fauth%2fpeopleapi.readonly\n",
            "\n",
            "Enter your authorization code:\n",
            "··········\n",
            "Mounted at /content/drive\n"
          ],
          "name": "stdout"
        }
      ]
    },
    {
      "cell_type": "code",
      "metadata": {
        "id": "y50xTkeCntQA",
        "colab_type": "code",
        "colab": {}
      },
      "source": [
        "#FORMATTING DATA SET (not tested)\n",
        "#https://medium.com/@muskulpesent/create-numpy-array-of-images-fecb4e514c4b&sa=D&source=hangouts&ust=1582390259517000&usg=AFQjCNFIlPagqjM75QyaHiorDWqaazaL5g\n",
        "train_images = []\n",
        "train_labels = []\n",
        "test_images = []\n",
        "test_labels = []\n",
        "\n",
        "files = glob.glob(\"/content/training/*.png\")\n",
        "for myFile in files:\n",
        "  image = cv2.imread(myFile)\n",
        "  train_images.append(image)\n",
        "  train_labels.append(image[0])\n",
        "train_images = np.array(train_images, dtype='float32')\n",
        "train_labels = np.array(train_labels, dtype='float64')\n",
        "\n",
        "files2 = glob.glob(\"/content/tests/*.png\")\n",
        "for myFile in files2:\n",
        "  image = cv2.imread(myFile)\n",
        "  test_images.append(image)\n",
        "  test_labels.append(image[0])\n",
        "test_images = np.array(test_images, dtype='float32')\n",
        "test_labels = np.array(test_labels, dtype='float64')"
      ],
      "execution_count": 0,
      "outputs": []
    },
    {
      "cell_type": "code",
      "metadata": {
        "id": "iuk_2XCm9RLT",
        "colab_type": "code",
        "outputId": "a0654595-3ff3-418f-816e-9b5dc2f86d0e",
        "colab": {
          "base_uri": "https://localhost:8080/",
          "height": 51
        }
      },
      "source": [
        "#mnist = keras.datasets.mnist\n",
        "#(train_images, train_labels), (test_images, test_labels) = mnist.load_data()"
      ],
      "execution_count": 0,
      "outputs": [
        {
          "output_type": "stream",
          "text": [
            "Downloading data from https://storage.googleapis.com/tensorflow/tf-keras-datasets/mnist.npz\n",
            "11493376/11490434 [==============================] - 0s 0us/step\n"
          ],
          "name": "stdout"
        }
      ]
    },
    {
      "cell_type": "code",
      "metadata": {
        "id": "CuaYhAAralmD",
        "colab_type": "code",
        "outputId": "0b5c1209-4ec6-4950-d000-202b2c98eabb",
        "colab": {
          "base_uri": "https://localhost:8080/",
          "height": 51
        }
      },
      "source": [
        "print(\"shape before: \" + str(np.shape(train_images)))\n",
        "train_images = np.reshape(train_images, (train_images.len(), 28, 28, 3))\n",
        "print(\"shape after: \" + str(np.shape(train_images)))\n",
        "test_images = np.reshape(test_images, (10000, 28, 28, 3))"
      ],
      "execution_count": 0,
      "outputs": [
        {
          "output_type": "stream",
          "text": [
            "shape before: (60000, 28, 28)\n",
            "shape after: (60000, 28, 28, 1)\n"
          ],
          "name": "stdout"
        }
      ]
    },
    {
      "cell_type": "code",
      "metadata": {
        "id": "lDhHfqoY_u1S",
        "colab_type": "code",
        "colab": {}
      },
      "source": [
        "train_images = train_images / 255.\n",
        "test_images = test_images / 255."
      ],
      "execution_count": 0,
      "outputs": []
    },
    {
      "cell_type": "code",
      "metadata": {
        "id": "wX4jMtAY9iez",
        "colab_type": "code",
        "outputId": "c3bf70da-f13c-40b4-8529-dff232d58089",
        "colab": {
          "base_uri": "https://localhost:8080/",
          "height": 589
        }
      },
      "source": [
        "plt.figure(figsize=(10,10))\n",
        "for i in range(25):\n",
        "    plt.subplot(5,5,i+1)\n",
        "    plt.xticks([])\n",
        "    plt.yticks([])\n",
        "    plt.grid(False)\n",
        "    plt.imshow(np.reshape(train_images[i], (28,28)), cmap=plt.cm.binary)\n",
        "    plt.xlabel(train_labels[i])\n",
        "plt.show()"
      ],
      "execution_count": 0,
      "outputs": [
        {
          "output_type": "display_data",
          "data": {
            "image/png": "[encoded data removed]",
            "text/plain": [
              "<Figure size 720x720 with 25 Axes>"
            ]
          },
          "metadata": {
            "tags": []
          }
        }
      ]
    },
    {
      "cell_type": "code",
      "metadata": {
        "id": "cKnKYVmD-2eH",
        "colab_type": "code",
        "outputId": "2b1ddc7c-d9c4-468a-8ab3-ee26e08f78ca",
        "colab": {
          "base_uri": "https://localhost:8080/",
          "height": 88
        }
      },
      "source": [
        "model = keras.Sequential([\n",
        "  layers.Conv2D(14, 3, activation='relu', input_shape=(28,28,3)),\n",
        "  layers.Conv2D(28, 3, activation='relu'),\n",
        "  layers.Flatten(),\n",
        "  layers.Dense(200, activation='relu'),\n",
        "  layers.Dense(2, activation='softmax'), #classification layer; 0 for none 1 for stop\n",
        "])"
      ],
      "execution_count": 0,
      "outputs": [
        {
          "output_type": "stream",
          "text": [
            "WARNING:tensorflow:From /usr/local/lib/python3.6/dist-packages/tensorflow_core/python/ops/resource_variable_ops.py:1630: calling BaseResourceVariable.__init__ (from tensorflow.python.ops.resource_variable_ops) with constraint is deprecated and will be removed in a future version.\n",
            "Instructions for updating:\n",
            "If using Keras pass *_constraint arguments to layers.\n"
          ],
          "name": "stdout"
        }
      ]
    },
    {
      "cell_type": "code",
      "metadata": {
        "id": "LGyaLgMLA5Kb",
        "colab_type": "code",
        "colab": {}
      },
      "source": [
        "model.compile(optimizer='adam', loss='sparse_categorical_crossentropy', metrics=['accuracy'])"
      ],
      "execution_count": 0,
      "outputs": []
    },
    {
      "cell_type": "code",
      "metadata": {
        "id": "vaBaozT4B7fn",
        "colab_type": "code",
        "outputId": "5b59591f-b361-4ea6-b7df-7fd4bf96ae5a",
        "colab": {
          "base_uri": "https://localhost:8080/",
          "height": 391
        }
      },
      "source": [
        "model.fit(x=train_images,y=train_labels, validation_data=(test_images, test_labels), epochs=10, batch_size=128)\n",
        "\n",
        "model.save_weights('/content/model.h5')"
      ],
      "execution_count": 0,
      "outputs": [
        {
          "output_type": "stream",
          "text": [
            "Train on 60000 samples, validate on 10000 samples\n",
            "Epoch 1/10\n",
            "60000/60000 [==============================] - 8s 140us/sample - loss: 0.1485 - acc: 0.9543 - val_loss: 0.0605 - val_acc: 0.9809\n",
            "Epoch 2/10\n",
            "60000/60000 [==============================] - 5s 85us/sample - loss: 0.0428 - acc: 0.9865 - val_loss: 0.0428 - val_acc: 0.9859\n",
            "Epoch 3/10\n",
            "60000/60000 [==============================] - 5s 85us/sample - loss: 0.0231 - acc: 0.9926 - val_loss: 0.0384 - val_acc: 0.9880\n",
            "Epoch 4/10\n",
            "60000/60000 [==============================] - 5s 84us/sample - loss: 0.0139 - acc: 0.9956 - val_loss: 0.0407 - val_acc: 0.9878\n",
            "Epoch 5/10\n",
            "60000/60000 [==============================] - 5s 85us/sample - loss: 0.0091 - acc: 0.9972 - val_loss: 0.0444 - val_acc: 0.9882\n",
            "Epoch 6/10\n",
            "60000/60000 [==============================] - 5s 85us/sample - loss: 0.0066 - acc: 0.9979 - val_loss: 0.0460 - val_acc: 0.9867\n",
            "Epoch 7/10\n",
            "60000/60000 [==============================] - 5s 83us/sample - loss: 0.0072 - acc: 0.9975 - val_loss: 0.0473 - val_acc: 0.9874\n",
            "Epoch 8/10\n",
            "60000/60000 [==============================] - 5s 84us/sample - loss: 0.0042 - acc: 0.9987 - val_loss: 0.0612 - val_acc: 0.9859\n",
            "Epoch 9/10\n",
            "60000/60000 [==============================] - 5s 85us/sample - loss: 0.0055 - acc: 0.9980 - val_loss: 0.0469 - val_acc: 0.9882\n",
            "Epoch 10/10\n",
            "60000/60000 [==============================] - 5s 86us/sample - loss: 0.0022 - acc: 0.9994 - val_loss: 0.0491 - val_acc: 0.9896\n"
          ],
          "name": "stdout"
        },
        {
          "output_type": "execute_result",
          "data": {
            "text/plain": [
              "<tensorflow.python.keras.callbacks.History at 0x7f552ed8a6a0>"
            ]
          },
          "metadata": {
            "tags": []
          },
          "execution_count": 8
        }
      ]
    },
    {
      "cell_type": "code",
      "metadata": {
        "id": "d8w3WswHCt3i",
        "colab_type": "code",
        "outputId": "4855cb8a-ecc8-42fd-d273-6b40c7700d6a",
        "colab": {
          "base_uri": "https://localhost:8080/",
          "height": 589
        }
      },
      "source": [
        "predictions = np.argmax(model.predict(test_images), axis=1)\n",
        "plt.figure(figsize=(10,10))\n",
        "for i in range(25):\n",
        "    plt.subplot(5,5,i+1)\n",
        "    plt.xticks([])\n",
        "    plt.yticks([])\n",
        "    plt.grid(False)\n",
        "    plt.imshow(np.reshape(test_images[i], (28,28)), cmap=plt.cm.binary)\n",
        "    plt.xlabel(predictions[i])\n",
        "plt.show()"
      ],
      "execution_count": 0,
      "outputs": [
        {
          "output_type": "display_data",
          "data": {
            "image/png": "[encoded data removed]",
            "text/plain": [
              "<Figure size 720x720 with 25 Axes>"
            ]
          },
          "metadata": {
            "tags": []
          }
        }
      ]
    },
    {
      "cell_type": "code",
      "metadata": {
        "id": "UiVfhwpjDOGa",
        "colab_type": "code",
        "colab": {}
      },
      "source": [
        ""
      ],
      "execution_count": 0,
      "outputs": []
    }
  ]
}