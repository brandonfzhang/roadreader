{
  "nbformat": 4,
  "nbformat_minor": 0,
  "metadata": {
    "colab": {
      "name": "FinalCarTest.ipynb",
      "provenance": [],
      "collapsed_sections": [],
      "include_colab_link": true
    },
    "kernelspec": {
      "name": "python3",
      "display_name": "Python 3"
    }
  },
  "cells": [
    {
      "cell_type": "markdown",
      "metadata": {
        "id": "view-in-github",
        "colab_type": "text"
      },
      "source": [
        "<a href=\"https://colab.research.google.com/github/NapervilleCentral/roadreader/blob/picar/FinalCarTest.ipynb\" target=\"_parent\"><img src=\"https://colab.research.google.com/assets/colab-badge.svg\" alt=\"Open In Colab\"/></a>"
      ]
    },
    {
      "cell_type": "code",
      "metadata": {
        "id": "iMa4CJpEgQzt",
        "colab_type": "code",
        "colab": {}
      },
      "source": [
        "from picar import front_wheels\n",
        "from picar import back_wheels\n",
        "from picar import ADC\n",
        "import time\n",
        "import picar\n",
        "\n",
        "fw = front_wheels.Front_Wheels(db='config')\n",
        "bw = back_wheels.Back_Wheels(db='config')\n",
        "\n",
        "gate_value = 30\t\t# less then the normal, will act\n",
        "speed = 90\n",
        "bw.speed = speed\n",
        "\n",
        "status = 0\n",
        "recentStatus = [0,0,0,0,0,0,0,0,0,0,0,0,0,0,0,0,0,0,0,0]\n",
        "average = 0\n",
        "\n",
        "bw.forward()\n",
        "\n",
        "while average < 0.88:\n",
        "  #get status of car\n",
        "  status = model.getStatus() #must write getStatus method in the tester\n",
        "  recentStatus.pop()\n",
        "  recentStatus.append(status)\n",
        "  for s in recentStatus:\n",
        "      total += s\n",
        "      average = total/len(recentStatus)\n",
        "  \n",
        "\n",
        "#slows down once gets enough positives\n",
        "#use threads for more accuracy\n",
        "for i in range(0,speed):\n",
        "   bw.speed = speed-i\n",
        "\n",
        "bw.stop()\n"
      ],
      "execution_count": 0,
      "outputs": []
    }
  ]
}